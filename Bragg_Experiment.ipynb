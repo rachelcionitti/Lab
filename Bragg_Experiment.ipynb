{
  "nbformat": 4,
  "nbformat_minor": 0,
  "metadata": {
    "colab": {
      "name": "Bragg Experiment.ipynb",
      "provenance": []
    },
    "kernelspec": {
      "name": "python3",
      "display_name": "Python 3"
    },
    "language_info": {
      "name": "python"
    }
  },
  "cells": [
    {
      "cell_type": "code",
      "metadata": {
        "id": "XUWopqNcxyJ3"
      },
      "source": [
        "import numpy as np\n",
        "from matplotlib import pyplot as plt\n",
        "from scipy.optimize import curve_fit\n",
        "\n",
        "data = np.genfromtxt('/content/drive/MyDrive/Res_Plus.txt')\n",
        "data = np.delete(data,0,0)"
      ],
      "execution_count": 5,
      "outputs": []
    },
    {
      "cell_type": "code",
      "metadata": {
        "id": "Y9i6Z5OIx3uY"
      },
      "source": [
        "means = []\n",
        "errors_on_means = []\n",
        "thetas = [] \n",
        "errors_on_thetas = [] \n",
        "og_thetas = [] #original values, not the ones extrapolated from the gaussian fit "
      ],
      "execution_count": 6,
      "outputs": []
    },
    {
      "cell_type": "code",
      "metadata": {
        "id": "5g2bFbl2x7Tr"
      },
      "source": [
        "for x in [[5,6],[6,7],[11,13],[13,15],[18,20],[20,22],[25,27],[27,30]]: #These specify the ranges in which you find the individual peaks \n",
        "  \n",
        "  if x[1] < 21: #Anything to the left of this was one dataset, while after was another, so this specifies which to use \n",
        "    y = data[:,1]\n",
        "  else:\n",
        "    y = data[:,2]\n",
        "\n",
        "  peak = np.where(np.logical_and(data[:,0]>=x[0], data[:,0]<=x[1]))[0] #This takes only the indexes of the values in the selected range \n",
        "  to_fit = y[peak] #This takes the counts at those indexes\n",
        "  to_fit_xvals = data[:,0][peak] #This takes the wavelengths at those indexes \n",
        "\n",
        "  midpoint = np.max(to_fit) #This finds the highest point, the max of the peak \n",
        "  mid_index = np.where(to_fit == midpoint)[0][0] #This is the index where it is found\n",
        "\n",
        "  indeces = [mid_index-1,mid_index,mid_index+1,mid_index+2] #This takes one point to the left and two to the right, either using only one on each side or two on both sides was problematic\n",
        "  #So this is what worked with the code \n",
        "\n",
        "  def gaussian(x, a, b, c): #This will be used to fit to the points we just selected around the peak\n",
        "      return a*np.exp(-np.power(x - b, 2)/(2*np.power(c, 2)))\n",
        "\n",
        "  pars, cov = curve_fit(f=gaussian, xdata=to_fit_xvals[indeces], ydata=to_fit[indeces], bounds=(0, max(to_fit))) #Fitting the curve, getting parameters and their errors \n",
        "\n",
        "  x = np.linspace(to_fit_xvals[indeces].min(), to_fit_xvals[indeces].max())\n",
        "\n",
        "  errors = np.sqrt(np.diag(cov)) #errors of parameters \n",
        "\n",
        "  mean = pars[0] #The mean or the center of the gaussian is provided by the first parameter\n",
        "  error_on_mean = errors[0] \n",
        "  theta = pars[1] #The second parameter defines theta, or the x value corresponding to the peak value estimated by the gaussian\n",
        "  error_on_theta = errors[1]\n",
        "\n",
        "  means.append(mean)\n",
        "  errors_on_means.append(error_on_mean)\n",
        "  thetas.append(theta)\n",
        "  errors_on_thetas.append(error_on_theta)\n",
        "  og_thetas.append(to_fit_xvals[mid_index])"
      ],
      "execution_count": 7,
      "outputs": []
    },
    {
      "cell_type": "code",
      "metadata": {
        "colab": {
          "base_uri": "https://localhost:8080/",
          "height": 300
        },
        "id": "Ua8DpvUJyAIi",
        "outputId": "c63a5303-ff6e-4cf9-b204-eacd143403a5"
      },
      "source": [
        "thetas2 = np.array([og_thetas])[0]\n",
        "errors_on_thetas2 = np.array([errors_on_thetas])[0]\n",
        "wavelengths = np.array([63.09,71.08,63.09,71.08,63.09,71.08,63.09,71.08]) #wavelengths for Kalpha and Kbeta lines of the xrays \n",
        "thetas3 = thetas2/wavelengths\n",
        "plt.xlabel('n$\\lambda$ (pm)')\n",
        "plt.ylabel('sin$\\Theta$')\n",
        "plt.errorbar([1,1,2,2,3,3,4,4]*wavelengths,np.sin(thetas2*np.pi/180),yerr=np.sin(errors_on_thetas2*np.pi/180),fmt='bo') \n",
        "\n",
        "def bestfit(x, m, b):\n",
        "  return m*x + b\n",
        "\n",
        "pars, cov = curve_fit(f=bestfit, xdata=[1,1,2,2,3,3,4,4]*wavelengths, ydata=np.sin(thetas2*np.pi/180), sigma=np.sin(errors_on_thetas2*np.pi/180)) #Fitting best fit line \n",
        "errors = np.sqrt(np.diag(cov))\n",
        "\n",
        "plt.plot([1,1,2,2,3,3,4,4]*wavelengths,bestfit([1,1,2,2,3,3,4,4]*wavelengths,*pars),label='y=({:.4f} +/- {:.6f})x +({:.3f} +/- {:.3f})'.format(pars[0],errors[0],pars[1],errors[1]))\n",
        "\n",
        "plt.legend(fontsize=9)"
      ],
      "execution_count": 8,
      "outputs": [
        {
          "output_type": "execute_result",
          "data": {
            "text/plain": [
              "<matplotlib.legend.Legend at 0x7fe490d0f190>"
            ]
          },
          "metadata": {},
          "execution_count": 8
        },
        {
          "output_type": "display_data",
          "data": {
            "image/png": "[encoded data removed]",
            "text/plain": [
              "<Figure size 432x288 with 1 Axes>"
            ]
          },
          "metadata": {
            "needs_background": "light"
          }
        }
      ]
    }
  ]
}
