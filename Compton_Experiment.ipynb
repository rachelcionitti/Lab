{
  "nbformat": 4,
  "nbformat_minor": 0,
  "metadata": {
    "colab": {
      "name": "Compton Experiment.ipynb",
      "provenance": [],
      "collapsed_sections": []
    },
    "kernelspec": {
      "name": "python3",
      "display_name": "Python 3"
    },
    "language_info": {
      "name": "python"
    }
  },
  "cells": [
    {
      "cell_type": "code",
      "metadata": {
        "id": "VefDESAAoNBH"
      },
      "source": [
        "#compton scattering \n",
        "import numpy as np \n",
        "\n",
        "#Parameters that are dependent on the transmissibility of the copper sheet \n",
        "n = 2.75\n",
        "a = 7.6\n",
        "\n",
        "#R values \n",
        "R = np.mean(np.array([.33,.2,.27]))\n",
        "R0 = np.mean(np.array([36.84,36.77,37.2]))\n",
        "R1 = np.mean(np.array([15.97,14.61,14.61]))\n",
        "R2 = np.mean(np.array([7.73,7.79,7.4]))\n",
        "\n",
        "#Time intervals for values of R\n",
        "R_time = 60\n",
        "R0_time = 600\n",
        "R1_time = 600\n",
        "R2_time = 600\n",
        "\n",
        "#Errors on R values taken from poisson statistics \n",
        "R_err = np.sqrt(R/R_time)\n",
        "R0_err = np.sqrt(R0/R0_time)\n",
        "R1_err = np.sqrt(R1/R1_time)\n",
        "R2_err = np.sqrt(R2/R2_time)\n",
        "\n",
        "#T1 and T2\n",
        "T1 = (R1-R)/(R0-R)\n",
        "T2 = (R2-R)/(R0-R)\n",
        "\n",
        "#Partials of T1 and T2 to be used for error propagation \n",
        "T1_R1 = 1/(R0-R)\n",
        "T2_R2 = 1/(R0-R)\n",
        "T1_R = ((R0-R)**(-2))*(R1-1)\n",
        "T2_R = ((R0-R)**(-2))*(R2-1)\n",
        "\n",
        "#Using partials and errors on R to calculate error on T1 and T2 \n",
        "T1_err = np.sqrt(((T1_R1**2)*(R1_err**2)) + ((T1_R**2)*(R_err**2)))\n",
        "T2_err = np.sqrt(((T2_R2**2)*(R2_err**2)) + ((T2_R**2)*(R_err**2)))\n",
        "\n",
        "def wavelength_shift(T2,T1): \n",
        "  return 100*((np.log(T2)/-a)**(1/n) - (np.log(T1)/-a)**(1/n))\n",
        "\n",
        "#These are the replacements for the partials of the wavelength shift equation \n",
        "#So f_T1_T1err is estimating partial(f) wrt (T1)*error in T1 \n",
        "#The second is the same but for T2 \n",
        "#So if you square each and add them, that gives the variance of f\n",
        "#and the square root is the errror \n",
        "f_T1_T1err = wavelength_shift(1,T1+T1_err) - wavelength_shift(1,T1-T1_err)\n",
        "f_T2_T2err = wavelength_shift(T2+T2_err,1) - wavelength_shift(T2-T2_err,1)\n",
        "\n",
        "total_wavelength = wavelength_shift(T2,T1)\n",
        "\n",
        "#calculating error from sqrt of variance \n",
        "total_wavelength_error = (f_T1_T1err**2 + f_T2_T2err**2)**0.5"
      ],
      "execution_count": 65,
      "outputs": []
    }
  ]
}